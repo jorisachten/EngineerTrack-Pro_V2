{
 "cells": [
  {
   "cell_type": "code",
   "execution_count": 1,
   "id": "5dffa814-1b0e-4aac-a42e-9b8391f493c3",
   "metadata": {},
   "outputs": [],
   "source": [
    "import mysql.connector"
   ]
  },
  {
   "cell_type": "markdown",
   "id": "c49ff69e-bd4e-43c1-aaff-be974acd8fb8",
   "metadata": {},
   "source": [
    "# database setup and structure\n",
    "\n",
    "This python script will guide you through setting up a database and all tables for the project. The database structure is shown below:\n",
    "\n",
    "<img src=\"EngineerTrackPro.jpg\">\n",
    "\n"
   ]
  },
  {
   "cell_type": "markdown",
   "id": "c78edeed-2794-49e1-b959-91b7178869aa",
   "metadata": {},
   "source": [
    "# Database login\n",
    "Enter the credatinals to acces a database. The user needs to have all permissions to create a new project in a database\n",
    "- host: If database is located on the same machine\n",
    "- user: the user name, usually admin\n",
    "- password: secrete to login"
   ]
  },
  {
   "cell_type": "code",
   "execution_count": 2,
   "id": "8d2f34f0-1e09-4f3f-8608-83f7b8d1fd85",
   "metadata": {},
   "outputs": [],
   "source": [
    "host=\"localhost\"\n",
    "user=\"admin\"\n",
    "password=\"helloLayka\"\n",
    "\n",
    "mydb = mysql.connector.connect(\n",
    "  host=host,\n",
    "  user=user,\n",
    "  password=password\n",
    ")\n",
    "mycursor = mydb.cursor()"
   ]
  },
  {
   "cell_type": "markdown",
   "id": "135dfea6-1584-4930-b970-403e956dcaa0",
   "metadata": {},
   "source": [
    "# Project database creation\n",
    "A database will be created with the same name as the project. Do not use special characters such as ( ) - & @ * $ | % ~ except for underscore (_). Also do not use SQL or PL/SQL reserved words "
   ]
  },
  {
   "cell_type": "code",
   "execution_count": 3,
   "id": "38a5300e-5a97-4b3a-9dc0-a33ca98b8102",
   "metadata": {},
   "outputs": [
    {
     "name": "stdin",
     "output_type": "stream",
     "text": [
      "Enter new project name:  test\n"
     ]
    }
   ],
   "source": [
    "projectName = input(\"Enter new project name: \")\n",
    "try:\n",
    "    mycursor.execute(f\"CREATE DATABASE {projectName}\")\n",
    "except Exception as e:\n",
    "    # ANSI escape codes for red text and bold\n",
    "    red_bold = \"\\033[1;31m\"\n",
    "    reset = \"\\033[0m\"\n",
    "    print(f\"{red_bold}Failed to create database: {e}{reset}\")"
   ]
  },
  {
   "cell_type": "markdown",
   "id": "340b944b-8e8d-4312-87cc-890cde3a5e55",
   "metadata": {},
   "source": [
    "# Create project tables"
   ]
  },
  {
   "cell_type": "code",
   "execution_count": 4,
   "id": "1028e48a-f4e1-4bdf-a13e-580615d1d05f",
   "metadata": {},
   "outputs": [],
   "source": [
    "mydb = mysql.connector.connect(\n",
    "  host=host,\n",
    "  user=user,\n",
    "  password=password,\n",
    "  database=projectName\n",
    ")\n",
    "\n",
    "mycursor = mydb.cursor()"
   ]
  },
  {
   "cell_type": "code",
   "execution_count": 5,
   "id": "b0dfbcbd-9b78-4cf8-a72d-cef0eb36f668",
   "metadata": {},
   "outputs": [],
   "source": [
    "mycursor.execute(\"CREATE TABLE REVIEW        (id INT AUTO_INCREMENT PRIMARY KEY, name  VARCHAR(64),  initials VARCHAR(4))\")\n"
   ]
  },
  {
   "cell_type": "markdown",
   "id": "b98d0d08-84d5-4118-8a86-c536562f4d46",
   "metadata": {},
   "source": [
    "## OWNER TABLE"
   ]
  },
  {
   "cell_type": "code",
   "execution_count": 6,
   "id": "a183b24e-9854-4aa2-9dd1-5a355892e030",
   "metadata": {},
   "outputs": [
    {
     "name": "stdout",
     "output_type": "stream",
     "text": [
      "3 owner(s) were inserted.\n"
     ]
    }
   ],
   "source": [
    "mycursor.execute(\"CREATE TABLE OWNER         (id INT AUTO_INCREMENT PRIMARY KEY, name  VARCHAR(64),  initials VARCHAR(4),   role VARCHAR(32),   email VARCHAR(256))\")\n",
    "\n",
    "sql = \"INSERT INTO OWNER (name, initials, role) VALUES (%s, %s, %s)\"\n",
    "val = [\n",
    "  ('None', 'None', 'None'),\n",
    "  ('Bart Beesem',  'BaBe', 'Project leader'),\n",
    "  ('Flip Kanarie', 'FlKa', 'Mechanical Engineer'),\n",
    "]\n",
    "\n",
    "mycursor.executemany(sql, val)\n",
    "\n",
    "mydb.commit()\n",
    "\n",
    "print(mycursor.rowcount, \"owner(s) were inserted.\")"
   ]
  },
  {
   "cell_type": "markdown",
   "id": "cd546b4b-0050-44a5-a805-5369e21382a2",
   "metadata": {},
   "source": [
    "## DOC_STATE TABLE"
   ]
  },
  {
   "cell_type": "code",
   "execution_count": 7,
   "id": "462a59bb-8171-4bfd-8152-e5f726261924",
   "metadata": {},
   "outputs": [
    {
     "name": "stdout",
     "output_type": "stream",
     "text": [
      "3 owner(s) were inserted.\n"
     ]
    }
   ],
   "source": [
    "mycursor.execute(\"CREATE TABLE DOC_STATE     (id INT AUTO_INCREMENT PRIMARY KEY, state VARCHAR(16))\")\n",
    "\n",
    "sql = \"INSERT INTO DOC_STATE (state) VALUES (%s)\"\n",
    "val = [\n",
    "  ('Draft',),\n",
    "  ('Proposed',),\n",
    "  ('Qualified',),\n",
    "]\n",
    "\n",
    "mycursor.executemany(sql, val)\n",
    "\n",
    "mydb.commit()\n",
    "\n",
    "print(mycursor.rowcount, \"owner(s) were inserted.\")"
   ]
  },
  {
   "cell_type": "markdown",
   "id": "7299bf01-e750-4251-8437-c6d2ca3e6991",
   "metadata": {},
   "source": [
    "## REVIEW_STATE TABLE"
   ]
  },
  {
   "cell_type": "code",
   "execution_count": 8,
   "id": "7c96ceda-ddf2-487f-a062-c17920f66cc0",
   "metadata": {},
   "outputs": [
    {
     "name": "stdout",
     "output_type": "stream",
     "text": [
      "3 owner(s) were inserted.\n"
     ]
    }
   ],
   "source": [
    "mycursor.execute(\"CREATE TABLE REVIEW_STATE  (id INT AUTO_INCREMENT PRIMARY KEY, state VARCHAR(16))\")\n",
    "\n",
    "sql = \"INSERT INTO REVIEW_STATE (state) VALUES (%s)\"\n",
    "val = [\n",
    "  ('Unassigned',),\n",
    "  ('Assigned',),\n",
    "  ('Fixed',),\n",
    "]\n",
    "\n",
    "mycursor.executemany(sql, val)\n",
    "\n",
    "mydb.commit()\n",
    "\n",
    "print(mycursor.rowcount, \"owner(s) were inserted.\")"
   ]
  },
  {
   "cell_type": "markdown",
   "id": "16021d37-90f8-438e-8eaf-011e4c6a1e99",
   "metadata": {},
   "source": [
    "# CATEGORY TABLE"
   ]
  },
  {
   "cell_type": "code",
   "execution_count": 9,
   "id": "395ca6bb-e097-4639-9ece-f8e702ab0517",
   "metadata": {},
   "outputs": [
    {
     "name": "stdout",
     "output_type": "stream",
     "text": [
      "5 Categorie(s) were inserted.\n"
     ]
    }
   ],
   "source": [
    "mycursor.execute(\"CREATE TABLE CATEGORY      (id INT AUTO_INCREMENT PRIMARY KEY, name  VARCHAR(64),  rank int(4))\")\n",
    "\n",
    "sql = \"INSERT INTO CATEGORY (name, rank) VALUES (%s,%s)\"\n",
    "val = [\n",
    "    ('Concept Specifications','1'), \n",
    "    ('Module Specifications','2'), \n",
    "    ('Detailed Design Specification','3'),\n",
    "    ('Test Requirement Specification','4'),\n",
    "    ('Test Specifications','5')\n",
    "]\n",
    "\n",
    "mycursor.executemany(sql, val)\n",
    "\n",
    "mydb.commit()\n",
    "\n",
    "print(mycursor.rowcount, \"Categorie(s) were inserted.\")\n"
   ]
  },
  {
   "cell_type": "markdown",
   "id": "aa54c143-c189-409e-bfe4-2035a2a8c231",
   "metadata": {},
   "source": [
    "# Documents"
   ]
  },
  {
   "cell_type": "code",
   "execution_count": 10,
   "id": "ae77acd5-889e-4ffe-97ae-bd351c250721",
   "metadata": {},
   "outputs": [
    {
     "name": "stdout",
     "output_type": "stream",
     "text": [
      "8 Document(s) were inserted.\n"
     ]
    }
   ],
   "source": [
    "s = (\n",
    "    \"id INT AUTO_INCREMENT PRIMARY KEY\",\n",
    "    \"name VARCHAR(64)\",\n",
    "    \"initials VARCHAR(4)\",\n",
    "    \"owner_id int\",\n",
    "    \"category_id int\",\n",
    "    \"FOREIGN KEY (owner_id) REFERENCES OWNER(id)\",\n",
    "    \"FOREIGN KEY (category_id) REFERENCES CATEGORY(id)\"\n",
    ")\n",
    "\n",
    "# Join the tuple into a single string with commas\n",
    "s = \", \".join(s)\n",
    "\n",
    "# Execute the SQL command to create the table\n",
    "mycursor = mydb.cursor()\n",
    "mycursor.execute(f\"CREATE TABLE DOCUMENT ({s})\")\n",
    "\n",
    "sql = \"INSERT INTO DOCUMENT (name, initials, owner_id, category_id) VALUES (%s, %s, %s, %s)\"\n",
    "val = [\n",
    "\n",
    "    ('Customer Requirement Specifications',  'CRS',  '1', '1'),\n",
    "    ('Regolatory Requirement Specifications','RRS',  '1', '1'),\n",
    "    ('Hardware Requirement Specifications',  'HwRS', '1', '2'),\n",
    "    ('Software Requirement Specifications',  'SwRS', '1', '2'),\n",
    "    ('Hardware Design Specifications',       'HwDS', '1', '3'),\n",
    "    ('Software Design Specifications',       'SwDS', '1', '3'),\n",
    "    ('Hardware Test Specifications',         'HwTS', '1', '4'),\n",
    "    ('Software Test Specifications',         'SwTS', '1', '4')\n",
    "    \n",
    "\n",
    "]\n",
    "\n",
    "mycursor.executemany(sql, val)\n",
    "\n",
    "mydb.commit()\n",
    "\n",
    "print(mycursor.rowcount, \"Document(s) were inserted.\")\n"
   ]
  },
  {
   "cell_type": "markdown",
   "id": "ed8160b4-ff50-4b90-a80b-19dbef87ec31",
   "metadata": {},
   "source": [
    "# SPEC_TYPE"
   ]
  },
  {
   "cell_type": "code",
   "execution_count": 11,
   "id": "fa0c1f44-a952-4c26-a94b-c7e221827712",
   "metadata": {},
   "outputs": [
    {
     "name": "stdout",
     "output_type": "stream",
     "text": [
      "4 Spec_types(s) were inserted.\n"
     ]
    }
   ],
   "source": [
    "mycursor.execute(\"CREATE TABLE SPEC_TYPE (id INT AUTO_INCREMENT PRIMARY KEY, SPEC_TYPE_NAME VARCHAR(255), TYPE ENUM('Function', 'Property', 'Constrain', 'Budget'))\")\n",
    "\n",
    "\n",
    "sql = \"INSERT INTO SPEC_TYPE (SPEC_TYPE_NAME, TYPE) VALUES (%s,%s)\"\n",
    "val = [\n",
    "  ('Has backup-power', 'Function'),\n",
    "  ('Connector', 'Property'),\n",
    "  ('Environmental', 'Constrain'),\n",
    "  ('maximum cost', 'Budget'),\n",
    "]\n",
    "\n",
    "mycursor.executemany(sql, val)\n",
    "mydb.commit()\n",
    "\n",
    "print(mycursor.rowcount, \"Spec_types(s) were inserted.\")"
   ]
  },
  {
   "cell_type": "markdown",
   "id": "fa4e4688-cadb-4d8a-88d5-00c16ffdcafa",
   "metadata": {},
   "source": [
    "# Specification"
   ]
  },
  {
   "cell_type": "code",
   "execution_count": 12,
   "id": "abde0eb1-c0b9-494d-a645-336045f647be",
   "metadata": {},
   "outputs": [],
   "source": [
    "s = (\n",
    "    \"id INT AUTO_INCREMENT PRIMARY KEY\",\n",
    "    \"title VARCHAR(64)\",\n",
    "    \"owner_id INT\",\n",
    "    \"document_id INT\",\n",
    "    \"spec_parent VARCHAR(256)\", \n",
    "    \"date DATETIME\",\n",
    "    \"state_id INT\",\n",
    "    \"review INT\",\n",
    "    \"spec_type_id INT\",\n",
    "    \"FOREIGN KEY (owner_id) REFERENCES OWNER(id)\",\n",
    "    \"FOREIGN KEY (document_id) REFERENCES DOCUMENT(id)\",\n",
    "    \"FOREIGN KEY (state_id) REFERENCES REVIEW_STATE(id)\",\n",
    "    \"FOREIGN KEY (spec_type_id) REFERENCES SPEC_TYPE(id)\"\n",
    ")\n",
    "\n",
    "# Join the tuple into a single string with commas\n",
    "s = \", \".join(s)\n",
    "\n",
    "# Execute the SQL command to create the table\n",
    "mycursor = mydb.cursor()\n",
    "mycursor.execute(f\"CREATE TABLE SPECIFICATION ({s})\")\n"
   ]
  },
  {
   "cell_type": "code",
   "execution_count": null,
   "id": "1d81c3b0-e0a5-4aa2-b429-ea8529153fe1",
   "metadata": {},
   "outputs": [],
   "source": []
  }
 ],
 "metadata": {
  "kernelspec": {
   "display_name": "Python 3 (ipykernel)",
   "language": "python",
   "name": "python3"
  },
  "language_info": {
   "codemirror_mode": {
    "name": "ipython",
    "version": 3
   },
   "file_extension": ".py",
   "mimetype": "text/x-python",
   "name": "python",
   "nbconvert_exporter": "python",
   "pygments_lexer": "ipython3",
   "version": "3.11.2"
  }
 },
 "nbformat": 4,
 "nbformat_minor": 5
}
